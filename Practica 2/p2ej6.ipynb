{
 "cells": [
  {
   "cell_type": "markdown",
   "metadata": {},
   "source": [
    "Ingreso por teclado la frase.\n"
   ]
  },
  {
   "cell_type": "code",
   "execution_count": 13,
   "metadata": {},
   "outputs": [],
   "source": [
    "phrase= str(input(\"Ingrese la frase\"))\n"
   ]
  },
  {
   "cell_type": "markdown",
   "metadata": {},
   "source": [
    "Ingreso por teclado la palabra que se desea saber cuantas veces esta en la frase."
   ]
  },
  {
   "cell_type": "code",
   "execution_count": 14,
   "metadata": {},
   "outputs": [],
   "source": [
    "word = str(input(\"ingrese la palabra que se desea buscar en la frase\"))"
   ]
  },
  {
   "cell_type": "markdown",
   "metadata": {},
   "source": [
    "limpio de caracteres no deseados la frase y lo convierto en una lista de palabras"
   ]
  },
  {
   "cell_type": "code",
   "execution_count": 15,
   "metadata": {},
   "outputs": [
    {
     "name": "stdout",
     "output_type": "stream",
     "text": [
      "['hola', 'como', 'estan', 'mi', 'nombre', 'es', 'santiago', 'michel', 'hola']\n"
     ]
    }
   ],
   "source": [
    "characters= (\".\",\",\",\";\",\":\",\"(\",\")\",\"-\",\"?\")\n",
    "for char in characters:\n",
    "    phrase=phrase.replace(char,\"\")\n",
    "phrase=phrase.lower()\n",
    "word=word.lower()\n",
    "phrase_list= phrase.split(\" \")\n",
    "for indice,aux in enumerate(phrase_list):\n",
    "    if aux ==\"\":\n",
    "        phrase_list.pop(indice)\n",
    "print(phrase_list)"
   ]
  },
  {
   "cell_type": "markdown",
   "metadata": {},
   "source": [
    "realizo lo pedido por el enunciado"
   ]
  },
  {
   "cell_type": "code",
   "execution_count": 16,
   "metadata": {},
   "outputs": [
    {
     "name": "stdout",
     "output_type": "stream",
     "text": [
      "La frase 'hola como estan mi nombre es santiago michel hola' contiene '9' palabras.\n",
      "La cantidad de veces que se repite la palabra 'hola en la frase es '2'\n"
     ]
    }
   ],
   "source": [
    "cant=0\n",
    "for aux in phrase_list:\n",
    "    if word == aux:\n",
    "        cant+=1\n",
    "print(f\"La frase '{phrase}' contiene '{len(phrase_list)}' palabras.\")\n",
    "print(f\"La cantidad de veces que se repite la palabra '{word} en la frase es '{cant}'\")"
   ]
  }
 ],
 "metadata": {
  "kernelspec": {
   "display_name": "venv",
   "language": "python",
   "name": "python3"
  },
  "language_info": {
   "codemirror_mode": {
    "name": "ipython",
    "version": 3
   },
   "file_extension": ".py",
   "mimetype": "text/x-python",
   "name": "python",
   "nbconvert_exporter": "python",
   "pygments_lexer": "ipython3",
   "version": "3.11.2"
  }
 },
 "nbformat": 4,
 "nbformat_minor": 2
}
