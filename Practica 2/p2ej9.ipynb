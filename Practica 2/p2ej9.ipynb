{
 "cells": [
  {
   "cell_type": "markdown",
   "metadata": {},
   "source": [
    "Creo la estructura de datos para almacenar todo los valores para realizar lo pedido."
   ]
  },
  {
   "cell_type": "code",
   "execution_count": 62,
   "metadata": {},
   "outputs": [],
   "source": [
    "values={(\"A\",\"E\",\"I\",\"O\",\"U\",\"L\",\"N\",\"R\",\"S\",\"T\"): 1, (\"D\",\"G\"): 2, (\"B\",\"C\",\"M\",\"P\"): 3, (\"F\",\"H\",\"V\",\"W\",\"Y\"): 4, (\"K\"): 5, (\"J\",\"X\"): 8, (\"Q\",\"Z\"): 10}"
   ]
  },
  {
   "cell_type": "markdown",
   "metadata": {},
   "source": [
    "Le solicito al usuario que ingrese la plabra que desee analizar su valor"
   ]
  },
  {
   "cell_type": "code",
   "execution_count": 63,
   "metadata": {},
   "outputs": [],
   "source": [
    "word= str(input(\"Ingrese una palabra\")).upper()"
   ]
  },
  {
   "cell_type": "markdown",
   "metadata": {},
   "source": [
    "Declaro una funcion para resolver lo pedido por el enunciado."
   ]
  },
  {
   "cell_type": "code",
   "execution_count": 64,
   "metadata": {},
   "outputs": [],
   "source": [
    "def calculate_values (word, values):\n",
    "    word_value=0\n",
    "    for letter in word:\n",
    "        for key, value in values.items():\n",
    "            if letter in key:\n",
    "                word_value+=value\n",
    "                break\n",
    "    return word_value"
   ]
  },
  {
   "cell_type": "markdown",
   "metadata": {},
   "source": [
    "Realizo lo pedido por el enunciado."
   ]
  },
  {
   "cell_type": "code",
   "execution_count": 65,
   "metadata": {},
   "outputs": [
    {
     "name": "stdout",
     "output_type": "stream",
     "text": [
      "La palabra ingresada es 'TOMATE' y su valor segun la tabla del juego es: '8'\n"
     ]
    }
   ],
   "source": [
    "print(f\"La palabra ingresada es '{word}' y su valor segun la tabla del juego es: '{calculate_values(word,values)}'\")"
   ]
  }
 ],
 "metadata": {
  "kernelspec": {
   "display_name": "venv",
   "language": "python",
   "name": "python3"
  },
  "language_info": {
   "codemirror_mode": {
    "name": "ipython",
    "version": 3
   },
   "file_extension": ".py",
   "mimetype": "text/x-python",
   "name": "python",
   "nbconvert_exporter": "python",
   "pygments_lexer": "ipython3",
   "version": "3.11.2"
  }
 },
 "nbformat": 4,
 "nbformat_minor": 2
}
