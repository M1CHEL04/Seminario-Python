{
 "cells": [
  {
   "cell_type": "markdown",
   "metadata": {},
   "source": [
    "Cargo el texto proporcionado a una variable"
   ]
  },
  {
   "cell_type": "code",
   "execution_count": 44,
   "metadata": {},
   "outputs": [],
   "source": [
    "text = \"\"\"La BRECHA salarial alcanzó el 27,7%: las mujeres ocupadas debieron trabajar 8 días y 10 horas más que los varones ocupados para ganar lo mismo que ellos en un mes.\"\"\""
   ]
  },
  {
   "cell_type": "markdown",
   "metadata": {},
   "source": [
    "Para este ejercicio es nesario usar el paquete strings, por lo tanto lo importaremos."
   ]
  },
  {
   "cell_type": "code",
   "execution_count": 45,
   "metadata": {},
   "outputs": [],
   "source": [
    "import string"
   ]
  },
  {
   "cell_type": "markdown",
   "metadata": {},
   "source": [
    "Creo dos strings con las letras minisculas y mayusculas\n"
   ]
  },
  {
   "cell_type": "code",
   "execution_count": 46,
   "metadata": {},
   "outputs": [],
   "source": [
    "upper=string.ascii_uppercase\n",
    "lower=string.ascii_lowercase"
   ]
  },
  {
   "cell_type": "markdown",
   "metadata": {},
   "source": [
    "Convierto la variable text a una lista de palabras y elimino los caracteres no deseados\n"
   ]
  },
  {
   "cell_type": "code",
   "execution_count": 47,
   "metadata": {},
   "outputs": [
    {
     "name": "stdout",
     "output_type": "stream",
     "text": [
      "['La', 'BRECHA', 'salarial', 'alcanzó', 'el', '27,7%:', 'las', 'mujeres', 'ocupadas', 'debieron', 'trabajar', '8', 'días', 'y', '10', 'horas', 'más', 'que', 'los', 'varones', 'ocupados', 'para', 'ganar', 'lo', 'mismo', 'que', 'ellos', 'en', 'un', 'mes']\n",
      "30\n"
     ]
    }
   ],
   "source": [
    "text= text.replace(\".\",\"\")\n",
    "text_list= text.split(\" \")\n",
    "for indice,aux in enumerate(text_list):\n",
    "    if aux == \"\":\n",
    "        text_list.pop(indice)\n",
    "print(text_list)\n",
    "print(len(text_list))"
   ]
  },
  {
   "cell_type": "markdown",
   "metadata": {},
   "source": [
    "Resuelvo lo pedido por el enunciado"
   ]
  },
  {
   "cell_type": "code",
   "execution_count": 48,
   "metadata": {},
   "outputs": [
    {
     "name": "stdout",
     "output_type": "stream",
     "text": [
      "la cantida de letras mayusculas es: '7', la cantida de letras minusculas es: '114', y la cantida de caracteres no letras es: '12'\n",
      "la cantidad de palabreas mayusculas son: '1', y la cantida de palabras minusculas son: '25'\n"
     ]
    }
   ],
   "source": [
    "cant_upper=0\n",
    "cant_lower=0\n",
    "cant_special_char=0\n",
    "cant_word_upper=0\n",
    "cant_word_lower=0\n",
    "\n",
    "for word in text_list:\n",
    "    if word.isupper():\n",
    "       cant_word_upper+=1\n",
    "    elif word.islower():\n",
    "      cant_word_lower+=1\n",
    "    for char in word:\n",
    "        if char in lower:\n",
    "          cant_lower+=1\n",
    "        elif char in upper:\n",
    "           cant_upper+=1\n",
    "        else:\n",
    "           cant_special_char+=1\n",
    "\n",
    "print(f\"la cantida de letras mayusculas es: '{cant_upper}', la cantida de letras minusculas es: '{cant_lower}', y la cantida de caracteres no letras es: '{cant_special_char}'\")\n",
    "print(f\"la cantidad de palabreas mayusculas son: '{cant_word_upper}', y la cantida de palabras minusculas son: '{cant_word_lower}'\")"
   ]
  }
 ],
 "metadata": {
  "kernelspec": {
   "display_name": "venv",
   "language": "python",
   "name": "python3"
  },
  "language_info": {
   "codemirror_mode": {
    "name": "ipython",
    "version": 3
   },
   "file_extension": ".py",
   "mimetype": "text/x-python",
   "name": "python",
   "nbconvert_exporter": "python",
   "pygments_lexer": "ipython3",
   "version": "3.11.2"
  }
 },
 "nbformat": 4,
 "nbformat_minor": 2
}
