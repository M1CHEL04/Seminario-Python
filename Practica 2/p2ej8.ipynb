{
 "cells": [
  {
   "cell_type": "markdown",
   "metadata": {},
   "source": [
    "Declaro una funcion para realizar lo pedido.\n"
   ]
  },
  {
   "cell_type": "code",
   "execution_count": 25,
   "metadata": {},
   "outputs": [],
   "source": [
    "def sin_repeticiones (phrase):\n",
    "    words={}\n",
    "    for letter in phrase:\n",
    "        if(letter == \" \"):\n",
    "            continue\n",
    "        if letter in words:\n",
    "            words[letter]+=1\n",
    "        else:\n",
    "            words[letter]=1\n",
    "    #checkeo si las letras se repiten\n",
    "    for word, words in words.items():\n",
    "        if words > 1:\n",
    "            #Si una de las claves con la letras tiene mas de 1, es porque se repite\n",
    "            return False\n",
    "    #Al salir del for es porque no se repite ninguna\n",
    "    return True\n",
    "    "
   ]
  },
  {
   "cell_type": "markdown",
   "metadata": {},
   "source": [
    "Le pido al usuario que ingrese por teclado el texto o frase a analizar"
   ]
  },
  {
   "cell_type": "code",
   "execution_count": 26,
   "metadata": {},
   "outputs": [],
   "source": [
    "text=str(input(\"Ingrese la frase que se desea saber si es heterograma\"))\n"
   ]
  },
  {
   "cell_type": "code",
   "execution_count": 27,
   "metadata": {},
   "outputs": [
    {
     "name": "stdout",
     "output_type": "stream",
     "text": [
      "El texto ingresado es un heterograma.\n"
     ]
    }
   ],
   "source": [
    "if text ==\"\":\n",
    "   print(\"Error al ingresar el texto\")\n",
    "elif sin_repeticiones(text):\n",
    "   print(\"El texto ingresado es un heterograma.\")\n",
    "else:\n",
    "   print(\"El texto ingresado no es un heterograma.\")"
   ]
  }
 ],
 "metadata": {
  "kernelspec": {
   "display_name": "venv",
   "language": "python",
   "name": "python3"
  },
  "language_info": {
   "codemirror_mode": {
    "name": "ipython",
    "version": 3
   },
   "file_extension": ".py",
   "mimetype": "text/x-python",
   "name": "python",
   "nbconvert_exporter": "python",
   "pygments_lexer": "ipython3",
   "version": "3.11.2"
  }
 },
 "nbformat": 4,
 "nbformat_minor": 2
}
