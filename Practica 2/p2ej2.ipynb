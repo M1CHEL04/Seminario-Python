{
 "cells": [
  {
   "cell_type": "markdown",
   "metadata": {},
   "source": [
    "Copio el contenido del archivo de texto README.md almacenado en numpy y lo guardo en una variable."
   ]
  },
  {
   "cell_type": "code",
   "execution_count": 41,
   "metadata": {},
   "outputs": [],
   "source": [
    "text= \"\"\"NumPy is the fundamental package for scientific computing with Python.\n",
    "\n",
    "Website: https://www.numpy.org\n",
    "Documentation: https://numpy.org/doc\n",
    "Mailing list: https://mail.python.org/mailman/listinfo/numpy-discussion\n",
    "Source code: https://github.com/numpy/numpy\n",
    "Contributing: https://www.numpy.org/devdocs/dev/index.html\n",
    "Bug reports: https://github.com/numpy/numpy/issues\n",
    "Report a security vulnerability: https://tidelift.com/docs/security\n",
    "It provides:\n",
    "\n",
    "a powerful N-dimensional array object\n",
    "sophisticated (broadcasting) functions\n",
    "tools for integrating C/C++ and Fortran code\n",
    "useful linear algebra, Fourier transform, and random number capabilities\n",
    "Testing:\n",
    "\n",
    "NumPy requires pytest and hypothesis. Tests can then be run after installation with:\n",
    "\n",
    "python -c \"import numpy, sys; sys.exit(numpy.test() is False)\"\n",
    "Code of Conduct\n",
    "NumPy is a community-driven open source project developed by a diverse group of contributors. The NumPy leadership has made a strong commitment to creating an open, inclusive, and positive community. Please read the NumPy Code of Conduct for guidance on how to interact with others in a way that makes our community thrive.\n",
    "\n",
    "Call for Contributions\n",
    "The NumPy project welcomes your expertise and enthusiasm!\n",
    "\n",
    "Small improvements or fixes are always appreciated. If you are considering larger contributions to the source code, please contact us through the mailing list first.\n",
    "\n",
    "Writing code isn’t the only way to contribute to NumPy. You can also:\n",
    "\n",
    "review pull requests\n",
    "help us stay on top of new and old issues\n",
    "develop tutorials, presentations, and other educational materials\n",
    "maintain and improve our website\n",
    "develop graphic design for our brand assets and promotional materials\n",
    "translate website content\n",
    "help with outreach and onboard new contributors\n",
    "write grant proposals and help with other fundraising efforts\n",
    "For more information about the ways you can contribute to NumPy, visit our website. If you’re unsure where to start or how your skills fit in, reach out! You can ask on the mailing list or here, on GitHub, by opening a new issue or leaving a comment on a relevant issue that is already open.\n",
    "\n",
    "Our preferred channels of communication are all public, but if you’d like to speak to us in private first, contact our community coordinators at numpy-team@googlegroups.com or on Slack (write numpy-team@googlegroups.com for an invitation).\n",
    "\n",
    "We also have a biweekly community call, details of which are announced on the mailing list. You are very welcome to join.\n",
    "\n",
    "If you are new to contributing to open source, this guide helps explain why, what, and how to successfully get involved.\"\"\""
   ]
  },
  {
   "cell_type": "markdown",
   "metadata": {},
   "source": [
    "Limpio de los caracteres especiales el texto y hago una lista con dicho texto separada por palabras"
   ]
  },
  {
   "cell_type": "code",
   "execution_count": 42,
   "metadata": {},
   "outputs": [
    {
     "name": "stdout",
     "output_type": "stream",
     "text": [
      "['NumPy', 'is', 'the', 'fundamental', 'package', 'for', 'scientific', 'computing', 'with', 'Python', '', 'Website', 'https//wwwnumpyorg', 'Documentation', 'https//numpyorg/doc', 'Mailing', 'list', 'https//mailpythonorg/mailman/listinfo/numpy-discussion', 'Source', 'code', 'https//githubcom/numpy/numpy', 'Contributing', 'https//wwwnumpyorg/devdocs/dev/indexhtml', 'Bug', 'reports', 'https//githubcom/numpy/numpy/issues', 'Report', 'a', 'security', 'vulnerability', 'https//tideliftcom/docs/security', 'It', 'provides', '', 'a', 'powerful', 'N-dimensional', 'array', 'object', 'sophisticated', '(broadcasting)', 'functions', 'tools', 'for', 'integrating', 'C/C++', 'and', 'Fortran', 'code', 'useful', 'linear', 'algebra', 'Fourier', 'transform', 'and', 'random', 'number', 'capabilities', 'Testing', '', 'NumPy', 'requires', 'pytest', 'and', 'hypothesis', 'Tests', 'can', 'then', 'be', 'run', 'after', 'installation', 'with', '', 'python', '-c', '\"import', 'numpy', 'sys', 'sysexit(numpytest()', 'is', 'False)\"', 'Code', 'of', 'Conduct', 'NumPy', 'is', 'a', 'community-driven', 'open', 'source', 'project', 'developed', 'by', 'a', 'diverse', 'group', 'of', 'contributors', 'The', 'NumPy', 'leadership', 'has', 'made', 'a', 'strong', 'commitment', 'to', 'creating', 'an', 'open', 'inclusive', 'and', 'positive', 'community', 'Please', 'read', 'the', 'NumPy', 'Code', 'of', 'Conduct', 'for', 'guidance', 'on', 'how', 'to', 'interact', 'with', 'others', 'in', 'a', 'way', 'that', 'makes', 'our', 'community', 'thrive', '', 'Call', 'for', 'Contributions', 'The', 'NumPy', 'project', 'welcomes', 'your', 'expertise', 'and', 'enthusiasm!', '', 'Small', 'improvements', 'or', 'fixes', 'are', 'always', 'appreciated', 'If', 'you', 'are', 'considering', 'larger', 'contributions', 'to', 'the', 'source', 'code', 'please', 'contact', 'us', 'through', 'the', 'mailing', 'list', 'first', '', 'Writing', 'code', 'isn’t', 'the', 'only', 'way', 'to', 'contribute', 'to', 'NumPy', 'You', 'can', 'also', '', 'review', 'pull', 'requests', 'help', 'us', 'stay', 'on', 'top', 'of', 'new', 'and', 'old', 'issues', 'develop', 'tutorials', 'presentations', 'and', 'other', 'educational', 'materials', 'maintain', 'and', 'improve', 'our', 'website', 'develop', 'graphic', 'design', 'for', 'our', 'brand', 'assets', 'and', 'promotional', 'materials', 'translate', 'website', 'content', 'help', 'with', 'outreach', 'and', 'onboard', 'new', 'contributors', 'write', 'grant', 'proposals', 'and', 'help', 'with', 'other', 'fundraising', 'efforts', 'For', 'more', 'information', 'about', 'the', 'ways', 'you', 'can', 'contribute', 'to', 'NumPy', 'visit', 'our', 'website', 'If', 'you’re', 'unsure', 'where', 'to', 'start', 'or', 'how', 'your', 'skills', 'fit', 'in', 'reach', 'out!', 'You', 'can', 'ask', 'on', 'the', 'mailing', 'list', 'or', 'here', 'on', 'GitHub', 'by', 'opening', 'a', 'new', 'issue', 'or', 'leaving', 'a', 'comment', 'on', 'a', 'relevant', 'issue', 'that', 'is', 'already', 'open', '', 'Our', 'preferred', 'channels', 'of', 'communication', 'are', 'all', 'public', 'but', 'if', 'you’d', 'like', 'to', 'speak', 'to', 'us', 'in', 'private', 'first', 'contact', 'our', 'community', 'coordinators', 'at', 'numpy-team@googlegroupscom', 'or', 'on', 'Slack', '(write', 'numpy-team@googlegroupscom', 'for', 'an', 'invitation)', '', 'We', 'also', 'have', 'a', 'biweekly', 'community', 'call', 'details', 'of', 'which', 'are', 'announced', 'on', 'the', 'mailing', 'list', 'You', 'are', 'very', 'welcome', 'to', 'join', '', 'If', 'you', 'are', 'new', 'to', 'contributing', 'to', 'open', 'source', 'this', 'guide', 'helps', 'explain', 'why', 'what', 'and', 'how', 'to', 'successfully', 'get', 'involved']\n"
     ]
    }
   ],
   "source": [
    "characters= (\",\",\".\",\";\",\":\")\n",
    "for char in characters:\n",
    "    text=text.replace(char,'')\n",
    "text=text.replace(\"\\n\",\" \")\n",
    "text= text.split(' ')\n",
    "print(text)"
   ]
  },
  {
   "cell_type": "markdown",
   "metadata": {},
   "source": [
    "Realizo lo pedido por el enunciado"
   ]
  },
  {
   "cell_type": "code",
   "execution_count": 46,
   "metadata": {},
   "outputs": [
    {
     "name": "stdout",
     "output_type": "stream",
     "text": [
      "Counter({'to': 13, 'and': 12, '': 11, 'a': 10, 'NumPy': 8, 'the': 8, 'on': 7, 'for': 6, 'of': 6, 'are': 6, 'with': 5, 'our': 5, 'or': 5, 'is': 4, 'list': 4, 'code': 4, 'can': 4, 'open': 4, 'community': 4, 'new': 4, 'source': 3, 'how': 3, 'in': 3, 'If': 3, 'you': 3, 'us': 3, 'mailing': 3, 'You': 3, 'help': 3, 'website': 3, 'Code': 2, 'Conduct': 2, 'project': 2, 'by': 2, 'contributors': 2, 'The': 2, 'an': 2, 'way': 2, 'that': 2, 'your': 2, 'contact': 2, 'first': 2, 'contribute': 2, 'also': 2, 'develop': 2, 'other': 2, 'materials': 2, 'issue': 2, 'numpy-team@googlegroupscom': 2, 'fundamental': 1, 'package': 1, 'scientific': 1, 'computing': 1, 'Python': 1, 'Website': 1, 'https//wwwnumpyorg': 1, 'Documentation': 1, 'https//numpyorg/doc': 1, 'Mailing': 1, 'https//mailpythonorg/mailman/listinfo/numpy-discussion': 1, 'Source': 1, 'https//githubcom/numpy/numpy': 1, 'Contributing': 1, 'https//wwwnumpyorg/devdocs/dev/indexhtml': 1, 'Bug': 1, 'reports': 1, 'https//githubcom/numpy/numpy/issues': 1, 'Report': 1, 'security': 1, 'vulnerability': 1, 'https//tideliftcom/docs/security': 1, 'It': 1, 'provides': 1, 'powerful': 1, 'N-dimensional': 1, 'array': 1, 'object': 1, 'sophisticated': 1, '(broadcasting)': 1, 'functions': 1, 'tools': 1, 'integrating': 1, 'C/C++': 1, 'Fortran': 1, 'useful': 1, 'linear': 1, 'algebra': 1, 'Fourier': 1, 'transform': 1, 'random': 1, 'number': 1, 'capabilities': 1, 'Testing': 1, 'requires': 1, 'pytest': 1, 'hypothesis': 1, 'Tests': 1, 'then': 1, 'be': 1, 'run': 1, 'after': 1, 'installation': 1, 'python': 1, '-c': 1, '\"import': 1, 'numpy': 1, 'sys': 1, 'sysexit(numpytest()': 1, 'False)\"': 1, 'community-driven': 1, 'developed': 1, 'diverse': 1, 'group': 1, 'leadership': 1, 'has': 1, 'made': 1, 'strong': 1, 'commitment': 1, 'creating': 1, 'inclusive': 1, 'positive': 1, 'Please': 1, 'read': 1, 'guidance': 1, 'interact': 1, 'others': 1, 'makes': 1, 'thrive': 1, 'Call': 1, 'Contributions': 1, 'welcomes': 1, 'expertise': 1, 'enthusiasm!': 1, 'Small': 1, 'improvements': 1, 'fixes': 1, 'always': 1, 'appreciated': 1, 'considering': 1, 'larger': 1, 'contributions': 1, 'please': 1, 'through': 1, 'Writing': 1, 'isn’t': 1, 'only': 1, 'review': 1, 'pull': 1, 'requests': 1, 'stay': 1, 'top': 1, 'old': 1, 'issues': 1, 'tutorials': 1, 'presentations': 1, 'educational': 1, 'maintain': 1, 'improve': 1, 'graphic': 1, 'design': 1, 'brand': 1, 'assets': 1, 'promotional': 1, 'translate': 1, 'content': 1, 'outreach': 1, 'onboard': 1, 'write': 1, 'grant': 1, 'proposals': 1, 'fundraising': 1, 'efforts': 1, 'For': 1, 'more': 1, 'information': 1, 'about': 1, 'ways': 1, 'visit': 1, 'you’re': 1, 'unsure': 1, 'where': 1, 'start': 1, 'skills': 1, 'fit': 1, 'reach': 1, 'out!': 1, 'ask': 1, 'here': 1, 'GitHub': 1, 'opening': 1, 'leaving': 1, 'comment': 1, 'relevant': 1, 'already': 1, 'Our': 1, 'preferred': 1, 'channels': 1, 'communication': 1, 'all': 1, 'public': 1, 'but': 1, 'if': 1, 'you’d': 1, 'like': 1, 'speak': 1, 'private': 1, 'coordinators': 1, 'at': 1, 'Slack': 1, '(write': 1, 'invitation)': 1, 'We': 1, 'have': 1, 'biweekly': 1, 'call': 1, 'details': 1, 'which': 1, 'announced': 1, 'very': 1, 'welcome': 1, 'join': 1, 'contributing': 1, 'this': 1, 'guide': 1, 'helps': 1, 'explain': 1, 'why': 1, 'what': 1, 'successfully': 1, 'get': 1, 'involved': 1})\n",
      "La palabra con mas de 4 letras que mas aparece en el texto es:  NumPy  con  8  apariciones.\n"
     ]
    }
   ],
   "source": [
    "from collections import Counter\n",
    "count= Counter(text)\n",
    "maxWord=\"\"\n",
    "max_apperances=-1\n",
    "for clave in count:\n",
    "    if len(clave) >4:\n",
    "        valor=count[clave]\n",
    "        if valor > max_apperances:\n",
    "            maxWord=clave\n",
    "            max_apperances=valor\n",
    "print(count)\n",
    "print(\"La palabra con mas de 4 letras que mas aparece en el texto es: \",maxWord,\" con \",max_apperances,\" apariciones.\")"
   ]
  }
 ],
 "metadata": {
  "kernelspec": {
   "display_name": "venv",
   "language": "python",
   "name": "python3"
  },
  "language_info": {
   "codemirror_mode": {
    "name": "ipython",
    "version": 3
   },
   "file_extension": ".py",
   "mimetype": "text/x-python",
   "name": "python",
   "nbconvert_exporter": "python",
   "pygments_lexer": "ipython3",
   "version": "3.11.2"
  }
 },
 "nbformat": 4,
 "nbformat_minor": 2
}
