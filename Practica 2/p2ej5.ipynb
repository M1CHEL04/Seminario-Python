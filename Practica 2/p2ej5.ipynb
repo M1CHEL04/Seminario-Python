{
 "cells": [
  {
   "cell_type": "markdown",
   "metadata": {},
   "source": [
    "guardo en una variable el articulo a analizar"
   ]
  },
  {
   "cell_type": "code",
   "execution_count": 48,
   "metadata": {},
   "outputs": [],
   "source": [
    "article=  \"\"\"título: Experiences in Developing a Distributed Agentbased Modeling Toolkit with Python Version 3.\n",
    "resumen: Distributed agent-based modeling (ABM) on high-performance computing resources provides the promise of capturing unprecedented details of large-scale complex systems. However, the specialized knowledge equired for developing such ABMs creates barriers to wider adoption and utilization. Here we present our experiences in developing an initial implementation of Repast4Py, a Python-based distributed ABM toolkit. We build on our experiences in developing ABM toolkits, including Repast for High Performance Computing (Repast HPC), to identify the key elements of a useful distributed ABM toolkit. We leverage the Numba, NumPy, and PyTorch packages and the En este ejemplo se debe informar: Python C-API to create a scalable modeling system that can exploit the largest HPC resources and emerging computing architectures.\"\"\""
   ]
  },
  {
   "cell_type": "markdown",
   "metadata": {},
   "source": [
    "Separo en diferentes variables el titulo del resumen "
   ]
  },
  {
   "cell_type": "code",
   "execution_count": 49,
   "metadata": {},
   "outputs": [
    {
     "name": "stdout",
     "output_type": "stream",
     "text": [
      "['título:', 'Experiences', 'in', 'Developing', 'a', 'Distributed', 'Agentbased', 'Modeling', 'Toolkit', 'with', 'Python', 'Version', '3.']\n",
      "['resumen: Distributed agent-based modeling (ABM) on high-performance computing resources provides the promise of capturing unprecedented details of large-scale complex systems', ' However, the specialized knowledge equired for developing such ABMs creates barriers to wider adoption and utilization', ' Here we present our experiences in developing an initial implementation of Repast4Py, a Python-based distributed ABM toolkit', ' We build on our experiences in developing ABM toolkits, including Repast for High Performance Computing (Repast HPC), to identify the key elements of a useful distributed ABM toolkit', ' We leverage the Numba, NumPy, and PyTorch packages and the En este ejemplo se debe informar: Python C-API to create a scalable modeling system that can exploit the largest HPC resources and emerging computing architectures', '']\n"
     ]
    }
   ],
   "source": [
    "article_list= article.split(\"\\n\")\n",
    "title= article_list[0]\n",
    "title_list= title.split(\" \")\n",
    "summary= article_list[1]\n",
    "summary_list= summary.split(\".\")\n",
    "print (title_list)\n",
    "print(summary_list)"
   ]
  },
  {
   "cell_type": "markdown",
   "metadata": {},
   "source": [
    "Borro caracteres no deseados de las listas."
   ]
  },
  {
   "cell_type": "code",
   "execution_count": 50,
   "metadata": {},
   "outputs": [
    {
     "name": "stdout",
     "output_type": "stream",
     "text": [
      "['título:', 'Experiences', 'in', 'Developing', 'a', 'Distributed', 'Agentbased', 'Modeling', 'Toolkit', 'with', 'Python', 'Version', '3.']\n",
      "['resumen: Distributed agent-based modeling (ABM) on high-performance computing resources provides the promise of capturing unprecedented details of large-scale complex systems', ' However, the specialized knowledge equired for developing such ABMs creates barriers to wider adoption and utilization', ' Here we present our experiences in developing an initial implementation of Repast4Py, a Python-based distributed ABM toolkit', ' We build on our experiences in developing ABM toolkits, including Repast for High Performance Computing (Repast HPC), to identify the key elements of a useful distributed ABM toolkit', ' We leverage the Numba, NumPy, and PyTorch packages and the En este ejemplo se debe informar: Python C-API to create a scalable modeling system that can exploit the largest HPC resources and emerging computing architectures']\n"
     ]
    }
   ],
   "source": [
    "for indice, aux in enumerate(summary_list):\n",
    "    if aux == '':\n",
    "        summary_list.pop(indice)\n",
    "for indice, aux in enumerate(title_list):\n",
    "    if aux == '':\n",
    "        title_list.pop(indice)\n",
    "print(title_list)\n",
    "print(summary_list)"
   ]
  },
  {
   "cell_type": "markdown",
   "metadata": {},
   "source": [
    "Realizo lo pedido por el enunciado"
   ]
  },
  {
   "cell_type": "code",
   "execution_count": 51,
   "metadata": {},
   "outputs": [],
   "source": [
    "from Herramientas.herramientas import oraciones\n",
    "from Herramientas.herramientas import titulo\n",
    "summary_result= oraciones(summary_list)\n",
    "title_result= titulo(title_list)"
   ]
  },
  {
   "cell_type": "markdown",
   "metadata": {},
   "source": [
    "Imprimo los resultados en pantalla"
   ]
  },
  {
   "cell_type": "code",
   "execution_count": 52,
   "metadata": {},
   "outputs": [
    {
     "name": "stdout",
     "output_type": "stream",
     "text": [
      "Titulo: not ok\n",
      "Cantidad de oraciones faciles para leer: '0', aceptables para leer: '0', dificil de leer: '2', muy dificl de leer: '2'\n"
     ]
    }
   ],
   "source": [
    "if title_result:\n",
    "    print(\"Titulo: ok\")\n",
    "else:\n",
    "    print(\"Titulo: not ok\")\n",
    "print(f\"Cantidad de oraciones faciles para leer: '{summary_result[0]}', aceptables para leer: '{summary_result[0]}', dificil de leer: '{summary_result[2]}', muy dificl de leer: '{summary_result[3]}'\")"
   ]
  },
  {
   "cell_type": "markdown",
   "metadata": {},
   "source": [
    "Ver tema de analisis de oraciones. Y ver tema del \"resumen\""
   ]
  }
 ],
 "metadata": {
  "kernelspec": {
   "display_name": "venv",
   "language": "python",
   "name": "python3"
  },
  "language_info": {
   "codemirror_mode": {
    "name": "ipython",
    "version": 3
   },
   "file_extension": ".py",
   "mimetype": "text/x-python",
   "name": "python",
   "nbconvert_exporter": "python",
   "pygments_lexer": "ipython3",
   "version": "3.11.2"
  }
 },
 "nbformat": 4,
 "nbformat_minor": 2
}
