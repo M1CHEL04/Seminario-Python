{
 "cells": [
  {
   "cell_type": "markdown",
   "metadata": {},
   "source": [
    "Para realizar este ejercicio por cuestiones de simplicidad voy a optar por importar el modulo 'Strings' dado que resuelve varias complejitudes que puede llegar a representar el ejercicio."
   ]
  },
  {
   "cell_type": "code",
   "execution_count": 1,
   "metadata": {},
   "outputs": [],
   "source": [
    "import string"
   ]
  },
  {
   "cell_type": "markdown",
   "metadata": {},
   "source": [
    "copio el texto guardado en la variable jupyter_info y lo paso todo a minuscula."
   ]
  },
  {
   "cell_type": "code",
   "execution_count": 24,
   "metadata": {},
   "outputs": [
    {
     "name": "stdout",
     "output_type": "stream",
     "text": [
      "['jupyterlab', 'is', 'a', 'web-based', 'interactive', 'development\\nenvironment', 'for', 'jupyter', 'notebooks,', 'code,', 'and', 'data.', 'jupyterlab', 'is\\nflexible:', 'configure', 'and', 'arrange', 'the', 'user', 'interface', 'to', 'support', 'a', 'wide\\nrange', 'of', 'workflows', 'in', 'data', 'science,', 'scientific', 'computing,', 'and', 'machine\\nlearning.', 'jupyterlab', 'is', 'extensible', 'and', 'modular:', 'write', 'plugins', 'that', 'add\\nnew', 'components', 'and', 'integrate', 'with', 'existing', 'ones.']\n"
     ]
    }
   ],
   "source": [
    "jupyter_info= \"\"\"JupyterLab is a web-based interactive development\n",
    "environment for Jupyter notebooks, code, and data. JupyterLab is\n",
    "flexible: configure and arrange the user interface to support a wide\n",
    "range of workflows in data science, scientific computing, and machine\n",
    "learning. JupyterLab is extensible and modular: write plugins that add\n",
    "new components and integrate with existing ones.\"\"\"\n",
    "jupyter_info= jupyter_info.lower()\n",
    "jupyter_info=jupyter_info.split(' ')\n",
    "print(jupyter_info)"
   ]
  },
  {
   "cell_type": "markdown",
   "metadata": {},
   "source": [
    "creo una variable con todas las letras minusculas "
   ]
  },
  {
   "cell_type": "code",
   "execution_count": 9,
   "metadata": {},
   "outputs": [],
   "source": [
    "lowercase= string.ascii_lowercase"
   ]
  },
  {
   "cell_type": "markdown",
   "metadata": {},
   "source": [
    "Realizo lo solicitado por el enunciado"
   ]
  },
  {
   "cell_type": "code",
   "execution_count": 26,
   "metadata": {},
   "outputs": [
    {
     "name": "stdout",
     "output_type": "stream",
     "text": [
      "jupyterlab\n",
      "La palabra no tiene la letra que se ha ingresado.\n",
      "a\n",
      "web-based\n",
      "interactive\n",
      "La palabra no tiene la letra que se ha ingresado.\n",
      "La palabra no tiene la letra que se ha ingresado.\n",
      "La palabra no tiene la letra que se ha ingresado.\n",
      "La palabra no tiene la letra que se ha ingresado.\n",
      "La palabra no tiene la letra que se ha ingresado.\n",
      "and\n",
      "data.\n",
      "jupyterlab\n",
      "La palabra no tiene la letra que se ha ingresado.\n",
      "La palabra no tiene la letra que se ha ingresado.\n",
      "and\n",
      "arrange\n",
      "La palabra no tiene la letra que se ha ingresado.\n",
      "La palabra no tiene la letra que se ha ingresado.\n",
      "interface\n",
      "La palabra no tiene la letra que se ha ingresado.\n",
      "La palabra no tiene la letra que se ha ingresado.\n",
      "a\n",
      "wide\n",
      "range\n",
      "La palabra no tiene la letra que se ha ingresado.\n",
      "La palabra no tiene la letra que se ha ingresado.\n",
      "La palabra no tiene la letra que se ha ingresado.\n",
      "data\n",
      "La palabra no tiene la letra que se ha ingresado.\n",
      "La palabra no tiene la letra que se ha ingresado.\n",
      "La palabra no tiene la letra que se ha ingresado.\n",
      "and\n",
      "machine\n",
      "learning.\n",
      "jupyterlab\n",
      "La palabra no tiene la letra que se ha ingresado.\n",
      "La palabra no tiene la letra que se ha ingresado.\n",
      "and\n",
      "modular:\n",
      "La palabra no tiene la letra que se ha ingresado.\n",
      "La palabra no tiene la letra que se ha ingresado.\n",
      "that\n",
      "add\n",
      "new\n",
      "La palabra no tiene la letra que se ha ingresado.\n",
      "and\n",
      "integrate\n",
      "La palabra no tiene la letra que se ha ingresado.\n",
      "La palabra no tiene la letra que se ha ingresado.\n",
      "La palabra no tiene la letra que se ha ingresado.\n"
     ]
    }
   ],
   "source": [
    "letter_to_search=str(input(\"ingrese la letra a buscar en las palabras.\"))\n",
    "letter_to_search=letter_to_search.lower()\n",
    "if len(letter_to_search)>1:\n",
    "    print(\"se ha ingresado mas de una letra\")\n",
    "elif not letter_to_search in lowercase or letter_to_search ==\"\":\n",
    "    print(\"Cararter no valido\")\n",
    "for word in jupyter_info:\n",
    "    if letter_to_search in word:\n",
    "        print(word)\n",
    "    else:\n",
    "        print(\"La palabra no tiene la letra que se ha ingresado.\")"
   ]
  }
 ],
 "metadata": {
  "kernelspec": {
   "display_name": "venv",
   "language": "python",
   "name": "python3"
  },
  "language_info": {
   "codemirror_mode": {
    "name": "ipython",
    "version": 3
   },
   "file_extension": ".py",
   "mimetype": "text/x-python",
   "name": "python",
   "nbconvert_exporter": "python",
   "pygments_lexer": "ipython3",
   "version": "3.11.2"
  }
 },
 "nbformat": 4,
 "nbformat_minor": 2
}
