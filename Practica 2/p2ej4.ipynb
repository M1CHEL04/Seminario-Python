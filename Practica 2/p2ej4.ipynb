{
 "cells": [
  {
   "cell_type": "markdown",
   "metadata": {},
   "source": [
    "Realizo lo pedido por el enunciado"
   ]
  },
  {
   "cell_type": "code",
   "execution_count": 13,
   "metadata": {},
   "outputs": [
    {
     "name": "stdout",
     "output_type": "stream",
     "text": [
      "Ingreso la palabra:  mario\n",
      "Hay al menos una letra a pero no una letra n\n"
     ]
    }
   ],
   "source": [
    "import string\n",
    "word= str(input(\"Ingrese una palabra: \"))\n",
    "print(\"Ingreso la palabra: \", word)\n",
    "if \"a\" in word:\n",
    "    if \"n\" in word:\n",
    "        print(\"Hay una letra al menos una letra a y una letra n\")\n",
    "    else:\n",
    "        print(\"Hay al menos una letra a pero no una letra n\")\n",
    "elif \"n\" in word:\n",
    "    print (\"Hay al menos una letra n pero nu una letra a\")\n",
    "else:\n",
    "    print(\"No hay ni una letra n y una letra a\")"
   ]
  }
 ],
 "metadata": {
  "kernelspec": {
   "display_name": "venv",
   "language": "python",
   "name": "python3"
  },
  "language_info": {
   "codemirror_mode": {
    "name": "ipython",
    "version": 3
   },
   "file_extension": ".py",
   "mimetype": "text/x-python",
   "name": "python",
   "nbconvert_exporter": "python",
   "pygments_lexer": "ipython3",
   "version": "3.11.2"
  }
 },
 "nbformat": 4,
 "nbformat_minor": 2
}
